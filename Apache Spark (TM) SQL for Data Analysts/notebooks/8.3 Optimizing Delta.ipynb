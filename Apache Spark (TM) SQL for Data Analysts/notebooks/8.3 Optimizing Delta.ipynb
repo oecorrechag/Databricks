{
 "cells": [
  {
   "cell_type": "markdown",
   "metadata": {
    "application/vnd.databricks.v1+cell": {
     "cellMetadata": {},
     "inputWidgets": {},
     "nuid": "cd4ba887-53b4-4515-a35c-67d417432a4c",
     "showTitle": false,
     "title": ""
    }
   },
   "source": [
    "\n",
    "<div style=\"text-align: center; line-height: 0; padding-top: 9px;\">\n",
    "  <img src=\"https://databricks.com/wp-content/uploads/2018/03/db-academy-rgb-1200px.png\" alt=\"Databricks Learning\" style=\"width: 600px\">\n",
    "</div>"
   ]
  },
  {
   "cell_type": "markdown",
   "metadata": {
    "application/vnd.databricks.v1+cell": {
     "cellMetadata": {},
     "inputWidgets": {},
     "nuid": "ad3e3d5d-76a2-463c-a366-74e2e9f75e29",
     "showTitle": false,
     "title": ""
    }
   },
   "source": [
    "## Optimizing Delta\n",
    "\n",
    "In this notebook, you'll see some examples of how you can optimize your queries using Delta Engine, which is built-in to the Databricks Runtime 7.0. It is also part of open source [Delta Lake](https://delta.io/).\n",
    "\n",
    "The data contains information about US-based flight schedules from 2008. It is made available to us via [Databricks Datasets](https://docs.databricks.com/data/databricks-datasets.html). \n",
    "\n",
    "First, we will create a standard table using Parquet format and then we'll run a query to observe the timing. \n",
    "\n",
    "Then, we'll run the same query on a Delta table using Delta Engine optimizations and compare the two. \n",
    "\n",
    "<img alt=\"Side Note\" title=\"Side Note\" style=\"vertical-align: text-bottom; position: relative; height:1.75em; top:0.05em; transform:rotate(15deg)\" src=\"https://files.training.databricks.com/static/images/icon-note.webp\"/> Databricks includes a variety of datasets that you can use to continue learning, or just for practice! Check out the docs for copyable Python code that you can use to see what sets are available. \n",
    "\n",
    "Run the cell below to set up your classroom environment. "
   ]
  },
  {
   "cell_type": "code",
   "execution_count": 0,
   "metadata": {
    "application/vnd.databricks.v1+cell": {
     "cellMetadata": {
      "byteLimit": 2048000,
      "rowLimit": 10000
     },
     "inputWidgets": {},
     "nuid": "62c1302d-a054-433f-9f42-c1f196e382ad",
     "showTitle": false,
     "title": ""
    }
   },
   "outputs": [
    {
     "output_type": "display_data",
     "data": {
      "text/html": [
       "Mounting course-specific datasets to <b>/mnt/training</b>...</br>Datasets are already mounted to <b>/mnt/training</b> from <b>s3a://databricks-corp-training/common</b>"
      ]
     },
     "metadata": {
      "application/vnd.databricks.v1+output": {
       "addedWidgets": {},
       "arguments": {},
       "data": "Mounting course-specific datasets to <b>/mnt/training</b>...</br>Datasets are already mounted to <b>/mnt/training</b> from <b>s3a://databricks-corp-training/common</b>",
       "datasetInfos": [],
       "metadata": {
        "isDbfsCommandResult": false
       },
       "removedWidgets": [],
       "textData": null,
       "type": "htmlSandbox"
      }
     },
     "output_type": "display_data"
    },
    {
     "output_type": "display_data",
     "data": {
      "text/html": [
       "<style scoped>\n",
       "  .ansiout {\n",
       "    display: block;\n",
       "    unicode-bidi: embed;\n",
       "    white-space: pre-wrap;\n",
       "    word-wrap: break-word;\n",
       "    word-break: break-all;\n",
       "    font-family: \"Menlo\", \"Monaco\", \"Consolas\", \"Ubuntu Mono\", \"Source Code Pro\", monospace;\n",
       "    font-size: 13px;\n",
       "    color: #555;\n",
       "    margin-left: 4px;\n",
       "    line-height: 19px;\n",
       "  }\n",
       "</style>\n",
       "<div class=\"ansiout\">res1: Boolean = true\n",
       "</div>"
      ]
     },
     "metadata": {
      "application/vnd.databricks.v1+output": {
       "addedWidgets": {},
       "arguments": {},
       "data": "<div class=\"ansiout\">res1: Boolean = true\n</div>",
       "datasetInfos": [],
       "metadata": {
        "isDbfsCommandResult": false
       },
       "removedWidgets": [],
       "type": "html"
      }
     },
     "output_type": "display_data"
    },
    {
     "output_type": "display_data",
     "data": {
      "text/html": [
       "<style scoped>\n",
       "  .ansiout {\n",
       "    display: block;\n",
       "    unicode-bidi: embed;\n",
       "    white-space: pre-wrap;\n",
       "    word-wrap: break-word;\n",
       "    word-break: break-all;\n",
       "    font-family: \"Menlo\", \"Monaco\", \"Consolas\", \"Ubuntu Mono\", \"Source Code Pro\", monospace;\n",
       "    font-size: 13px;\n",
       "    color: #555;\n",
       "    margin-left: 4px;\n",
       "    line-height: 19px;\n",
       "  }\n",
       "</style>\n",
       "<div class=\"ansiout\">res2: Boolean = true\n",
       "</div>"
      ]
     },
     "metadata": {
      "application/vnd.databricks.v1+output": {
       "addedWidgets": {},
       "arguments": {},
       "data": "<div class=\"ansiout\">res2: Boolean = true\n</div>",
       "datasetInfos": [],
       "metadata": {
        "isDbfsCommandResult": false
       },
       "removedWidgets": [],
       "type": "html"
      }
     },
     "output_type": "display_data"
    }
   ],
   "source": [
    "%run ../Includes/Classroom-Setup"
   ]
  },
  {
   "cell_type": "markdown",
   "metadata": {
    "application/vnd.databricks.v1+cell": {
     "cellMetadata": {},
     "inputWidgets": {},
     "nuid": "faf1169e-2c68-4b89-ab40-f92cf2a300e5",
     "showTitle": false,
     "title": ""
    }
   },
   "source": [
    "## Create a Parquet table\n",
    "Run the command below to create a Parquet table. "
   ]
  },
  {
   "cell_type": "code",
   "execution_count": 0,
   "metadata": {
    "application/vnd.databricks.v1+cell": {
     "cellMetadata": {
      "byteLimit": 2048000,
      "rowLimit": 10000
     },
     "inputWidgets": {},
     "nuid": "7ae721a2-27d0-4df1-a0d3-47b50716ba8c",
     "showTitle": false,
     "title": ""
    }
   },
   "outputs": [
    {
     "output_type": "display_data",
     "data": {
      "text/html": [
       "<style scoped>\n",
       "  .table-result-container {\n",
       "    max-height: 300px;\n",
       "    overflow: auto;\n",
       "  }\n",
       "  table, th, td {\n",
       "    border: 1px solid black;\n",
       "    border-collapse: collapse;\n",
       "  }\n",
       "  th, td {\n",
       "    padding: 5px;\n",
       "  }\n",
       "  th {\n",
       "    text-align: left;\n",
       "  }\n",
       "</style><div class='table-result-container'><table class='table-result'><thead style='background-color: white'><tr></tr></thead><tbody></tbody></table></div>"
      ]
     },
     "metadata": {
      "application/vnd.databricks.v1+output": {
       "addedWidgets": {},
       "aggData": [],
       "aggError": "",
       "aggOverflow": false,
       "aggSchema": [],
       "aggSeriesLimitReached": false,
       "aggType": "",
       "arguments": {},
       "columnCustomDisplayInfos": {},
       "data": [],
       "datasetInfos": [],
       "dbfsResultPath": null,
       "isJsonSchema": true,
       "metadata": {
        "isDbfsCommandResult": false
       },
       "overflow": false,
       "plotOptions": {
        "customPlotOptions": {},
        "displayType": "table",
        "pivotAggregation": null,
        "pivotColumns": null,
        "xColumns": null,
        "yColumns": null
       },
       "removedWidgets": [],
       "schema": [],
       "type": "table"
      }
     },
     "output_type": "display_data"
    }
   ],
   "source": [
    "%sql\n",
    "-- Crear tabla particionada\n",
    "DROP TABLE IF EXISTS flights;\n",
    "-- Create a standard table and import US based flights for year 2008\n",
    "-- USING Clause: Specify parquet format for a standard table\n",
    "-- PARTITIONED BY clause: Orginize data based on \"Origin\" column (Originating Airport code).\n",
    "-- FROM Clause: Import data from a csv file. \n",
    "CREATE TABLE flights\n",
    "USING\n",
    "  parquet\n",
    "PARTITIONED BY\n",
    "  (Origin)\n",
    "SELECT\n",
    "  _c0 AS Year,\n",
    "  _c1 AS MONTH,\n",
    "  _c2 AS DayofMonth,\n",
    "  _c3 AS DayOfWeek,\n",
    "  _c4 AS DepartureTime,\n",
    "  _c5 AS CRSDepartureTime,\n",
    "  _c6 AS ArrivalTime,\n",
    "  _c7 AS CRSArrivalTime,\n",
    "  _c8 AS UniqueCarrier,\n",
    "  _c9 AS FlightNumber,\n",
    "  _c10 AS TailNumber,\n",
    "  _c11 AS ActualElapsedTime,\n",
    "  _c12 AS CRSElapsedTime,\n",
    "  _c13 AS AirTime,\n",
    "  _c14 AS ArrivalDelay,\n",
    "  _c15 AS DepartureDelay,\n",
    "  _c16 AS Origin,\n",
    "  _c17 AS Destination,\n",
    "  _c18 AS Distance,\n",
    "  _c19 AS TaxiIn,\n",
    "  _c20 AS TaxiOut,\n",
    "  _c21 AS Cancelled,\n",
    "  _c22 AS CancellationCode,\n",
    "  _c23 AS Diverted,\n",
    "  _c24 AS CarrierDelay,\n",
    "  _c25 AS WeatherDelay,\n",
    "  _c26 AS NASDelay,\n",
    "  _c27 AS SecurityDelay,\n",
    "  _c28 AS LateAircraftDelay\n",
    "FROM                              -- This table is being read in directly from a csv file. \n",
    "  csv.`dbfs:/databricks-datasets/asa/airlines/2008.csv` "
   ]
  },
  {
   "cell_type": "code",
   "execution_count": 0,
   "metadata": {
    "application/vnd.databricks.v1+cell": {
     "cellMetadata": {
      "byteLimit": 2048000,
      "rowLimit": 10000
     },
     "inputWidgets": {},
     "nuid": "51cc61e4-5be1-4b06-bbc0-bc051e5f845c",
     "showTitle": false,
     "title": ""
    }
   },
   "outputs": [
    {
     "output_type": "display_data",
     "data": {
      "text/html": [
       "<style scoped>\n",
       "  .table-result-container {\n",
       "    max-height: 300px;\n",
       "    overflow: auto;\n",
       "  }\n",
       "  table, th, td {\n",
       "    border: 1px solid black;\n",
       "    border-collapse: collapse;\n",
       "  }\n",
       "  th, td {\n",
       "    padding: 5px;\n",
       "  }\n",
       "  th {\n",
       "    text-align: left;\n",
       "  }\n",
       "</style><div class='table-result-container'><table class='table-result'><thead style='background-color: white'><tr><th>col_name</th><th>data_type</th><th>comment</th></tr></thead><tbody><tr><td>Year</td><td>string</td><td>null</td></tr><tr><td>MONTH</td><td>string</td><td>null</td></tr><tr><td>DayofMonth</td><td>string</td><td>null</td></tr><tr><td>DayOfWeek</td><td>string</td><td>null</td></tr><tr><td>DepartureTime</td><td>string</td><td>null</td></tr><tr><td>CRSDepartureTime</td><td>string</td><td>null</td></tr><tr><td>ArrivalTime</td><td>string</td><td>null</td></tr><tr><td>CRSArrivalTime</td><td>string</td><td>null</td></tr><tr><td>UniqueCarrier</td><td>string</td><td>null</td></tr><tr><td>FlightNumber</td><td>string</td><td>null</td></tr><tr><td>TailNumber</td><td>string</td><td>null</td></tr><tr><td>ActualElapsedTime</td><td>string</td><td>null</td></tr><tr><td>CRSElapsedTime</td><td>string</td><td>null</td></tr><tr><td>AirTime</td><td>string</td><td>null</td></tr><tr><td>ArrivalDelay</td><td>string</td><td>null</td></tr><tr><td>DepartureDelay</td><td>string</td><td>null</td></tr><tr><td>Destination</td><td>string</td><td>null</td></tr><tr><td>Distance</td><td>string</td><td>null</td></tr><tr><td>TaxiIn</td><td>string</td><td>null</td></tr><tr><td>TaxiOut</td><td>string</td><td>null</td></tr><tr><td>Cancelled</td><td>string</td><td>null</td></tr><tr><td>CancellationCode</td><td>string</td><td>null</td></tr><tr><td>Diverted</td><td>string</td><td>null</td></tr><tr><td>CarrierDelay</td><td>string</td><td>null</td></tr><tr><td>WeatherDelay</td><td>string</td><td>null</td></tr><tr><td>NASDelay</td><td>string</td><td>null</td></tr><tr><td>SecurityDelay</td><td>string</td><td>null</td></tr><tr><td>LateAircraftDelay</td><td>string</td><td>null</td></tr><tr><td>Origin</td><td>string</td><td>null</td></tr><tr><td># Partition Information</td><td></td><td></td></tr><tr><td># col_name</td><td>data_type</td><td>comment</td></tr><tr><td>Origin</td><td>string</td><td>null</td></tr></tbody></table></div>"
      ]
     },
     "metadata": {
      "application/vnd.databricks.v1+output": {
       "addedWidgets": {},
       "aggData": [],
       "aggError": "",
       "aggOverflow": false,
       "aggSchema": [],
       "aggSeriesLimitReached": false,
       "aggType": "",
       "arguments": {},
       "columnCustomDisplayInfos": {},
       "data": [
        [
         "Year",
         "string",
         null
        ],
        [
         "MONTH",
         "string",
         null
        ],
        [
         "DayofMonth",
         "string",
         null
        ],
        [
         "DayOfWeek",
         "string",
         null
        ],
        [
         "DepartureTime",
         "string",
         null
        ],
        [
         "CRSDepartureTime",
         "string",
         null
        ],
        [
         "ArrivalTime",
         "string",
         null
        ],
        [
         "CRSArrivalTime",
         "string",
         null
        ],
        [
         "UniqueCarrier",
         "string",
         null
        ],
        [
         "FlightNumber",
         "string",
         null
        ],
        [
         "TailNumber",
         "string",
         null
        ],
        [
         "ActualElapsedTime",
         "string",
         null
        ],
        [
         "CRSElapsedTime",
         "string",
         null
        ],
        [
         "AirTime",
         "string",
         null
        ],
        [
         "ArrivalDelay",
         "string",
         null
        ],
        [
         "DepartureDelay",
         "string",
         null
        ],
        [
         "Destination",
         "string",
         null
        ],
        [
         "Distance",
         "string",
         null
        ],
        [
         "TaxiIn",
         "string",
         null
        ],
        [
         "TaxiOut",
         "string",
         null
        ],
        [
         "Cancelled",
         "string",
         null
        ],
        [
         "CancellationCode",
         "string",
         null
        ],
        [
         "Diverted",
         "string",
         null
        ],
        [
         "CarrierDelay",
         "string",
         null
        ],
        [
         "WeatherDelay",
         "string",
         null
        ],
        [
         "NASDelay",
         "string",
         null
        ],
        [
         "SecurityDelay",
         "string",
         null
        ],
        [
         "LateAircraftDelay",
         "string",
         null
        ],
        [
         "Origin",
         "string",
         null
        ],
        [
         "# Partition Information",
         "",
         ""
        ],
        [
         "# col_name",
         "data_type",
         "comment"
        ],
        [
         "Origin",
         "string",
         null
        ]
       ],
       "datasetInfos": [],
       "dbfsResultPath": null,
       "isJsonSchema": true,
       "metadata": {
        "isDbfsCommandResult": false
       },
       "overflow": false,
       "plotOptions": {
        "customPlotOptions": {},
        "displayType": "table",
        "pivotAggregation": null,
        "pivotColumns": null,
        "xColumns": null,
        "yColumns": null
       },
       "removedWidgets": [],
       "schema": [
        {
         "metadata": "{\"comment\":\"name of the column\"}",
         "name": "col_name",
         "type": "\"string\""
        },
        {
         "metadata": "{\"comment\":\"data type of the column\"}",
         "name": "data_type",
         "type": "\"string\""
        },
        {
         "metadata": "{\"comment\":\"comment of the column\"}",
         "name": "comment",
         "type": "\"string\""
        }
       ],
       "type": "table"
      }
     },
     "output_type": "display_data"
    }
   ],
   "source": [
    "%sql\n",
    "DESCRIBE flights"
   ]
  },
  {
   "cell_type": "markdown",
   "metadata": {
    "application/vnd.databricks.v1+cell": {
     "cellMetadata": {},
     "inputWidgets": {},
     "nuid": "6aa3f9e5-d008-4bd3-acf3-09ec73cc4466",
     "showTitle": false,
     "title": ""
    }
   },
   "source": [
    "## Highest monthly total (Parquet)\n",
    "\n",
    "Run the query to get the top 20 cities with the highest monthly total flights on the first day of the week. Be sure to note the time when the query finishes. "
   ]
  },
  {
   "cell_type": "code",
   "execution_count": 0,
   "metadata": {
    "application/vnd.databricks.v1+cell": {
     "cellMetadata": {
      "byteLimit": 2048000,
      "rowLimit": 10000
     },
     "inputWidgets": {},
     "nuid": "484f63f9-232d-45b6-a8bd-110a359bad93",
     "showTitle": false,
     "title": ""
    }
   },
   "outputs": [
    {
     "output_type": "display_data",
     "data": {
      "text/html": [
       "<style scoped>\n",
       "  .table-result-container {\n",
       "    max-height: 300px;\n",
       "    overflow: auto;\n",
       "  }\n",
       "  table, th, td {\n",
       "    border: 1px solid black;\n",
       "    border-collapse: collapse;\n",
       "  }\n",
       "  th, td {\n",
       "    padding: 5px;\n",
       "  }\n",
       "  th {\n",
       "    text-align: left;\n",
       "  }\n",
       "</style><div class='table-result-container'><table class='table-result'><thead style='background-color: white'><tr><th>Month</th><th>Origin</th><th>TotalFlights</th></tr></thead><tbody><tr><td>6</td><td>ATL</td><td>6046</td></tr><tr><td>3</td><td>ATL</td><td>6019</td></tr><tr><td>12</td><td>ATL</td><td>5800</td></tr><tr><td>9</td><td>ATL</td><td>5722</td></tr><tr><td>6</td><td>ORD</td><td>5241</td></tr><tr><td>3</td><td>ORD</td><td>5072</td></tr><tr><td>9</td><td>ORD</td><td>4931</td></tr><tr><td>7</td><td>ATL</td><td>4894</td></tr><tr><td>8</td><td>ATL</td><td>4821</td></tr><tr><td>4</td><td>ATL</td><td>4798</td></tr><tr><td>11</td><td>ATL</td><td>4776</td></tr><tr><td>10</td><td>ATL</td><td>4684</td></tr><tr><td>5</td><td>ATL</td><td>4656</td></tr><tr><td>2</td><td>ATL</td><td>4601</td></tr><tr><td>1</td><td>ATL</td><td>4540</td></tr><tr><td>12</td><td>ORD</td><td>4473</td></tr><tr><td>7</td><td>ORD</td><td>4249</td></tr><tr><td>8</td><td>ORD</td><td>4171</td></tr><tr><td>4</td><td>ORD</td><td>4140</td></tr><tr><td>5</td><td>ORD</td><td>4134</td></tr></tbody></table></div>"
      ]
     },
     "metadata": {
      "application/vnd.databricks.v1+output": {
       "addedWidgets": {},
       "aggData": [],
       "aggError": "",
       "aggOverflow": false,
       "aggSchema": [],
       "aggSeriesLimitReached": false,
       "aggType": "",
       "arguments": {},
       "columnCustomDisplayInfos": {},
       "data": [
        [
         "6",
         "ATL",
         6046
        ],
        [
         "3",
         "ATL",
         6019
        ],
        [
         "12",
         "ATL",
         5800
        ],
        [
         "9",
         "ATL",
         5722
        ],
        [
         "6",
         "ORD",
         5241
        ],
        [
         "3",
         "ORD",
         5072
        ],
        [
         "9",
         "ORD",
         4931
        ],
        [
         "7",
         "ATL",
         4894
        ],
        [
         "8",
         "ATL",
         4821
        ],
        [
         "4",
         "ATL",
         4798
        ],
        [
         "11",
         "ATL",
         4776
        ],
        [
         "10",
         "ATL",
         4684
        ],
        [
         "5",
         "ATL",
         4656
        ],
        [
         "2",
         "ATL",
         4601
        ],
        [
         "1",
         "ATL",
         4540
        ],
        [
         "12",
         "ORD",
         4473
        ],
        [
         "7",
         "ORD",
         4249
        ],
        [
         "8",
         "ORD",
         4171
        ],
        [
         "4",
         "ORD",
         4140
        ],
        [
         "5",
         "ORD",
         4134
        ]
       ],
       "datasetInfos": [],
       "dbfsResultPath": null,
       "isJsonSchema": true,
       "metadata": {
        "isDbfsCommandResult": false
       },
       "overflow": false,
       "plotOptions": {
        "customPlotOptions": {},
        "displayType": "table",
        "pivotAggregation": null,
        "pivotColumns": null,
        "xColumns": null,
        "yColumns": null
       },
       "removedWidgets": [],
       "schema": [
        {
         "metadata": "{}",
         "name": "Month",
         "type": "\"string\""
        },
        {
         "metadata": "{}",
         "name": "Origin",
         "type": "\"string\""
        },
        {
         "metadata": "{}",
         "name": "TotalFlights",
         "type": "\"long\""
        }
       ],
       "type": "table"
      }
     },
     "output_type": "display_data"
    }
   ],
   "source": [
    "%sql\n",
    "-- busqueda\n",
    "SELECT Month, Origin, count(*) as TotalFlights \n",
    "FROM flights\n",
    "WHERE DayOfWeek = 1 \n",
    "GROUP BY Month, Origin \n",
    "ORDER BY TotalFlights DESC\n",
    "LIMIT 20;"
   ]
  },
  {
   "cell_type": "markdown",
   "metadata": {
    "application/vnd.databricks.v1+cell": {
     "cellMetadata": {},
     "inputWidgets": {},
     "nuid": "15e77c91-a43b-4469-99a1-52bb6c3a5334",
     "showTitle": false,
     "title": ""
    }
   },
   "source": [
    "## Create a Delta Table\n",
    "Run the query below to compare Delta to Parquet. Note, this is the exact same command running on the exact same cluster configuration. Recall that the two operations take roughly the same amount of \"work\" from Spark. We have to read in a huge csv file, partition it by origin, and store it in a new, columnar format. Plus, Delta is creating a transaction log and tagging the files with important and useful metadata! "
   ]
  },
  {
   "cell_type": "code",
   "execution_count": 0,
   "metadata": {
    "application/vnd.databricks.v1+cell": {
     "cellMetadata": {
      "byteLimit": 2048000,
      "rowLimit": 10000
     },
     "inputWidgets": {},
     "nuid": "d7380d39-5dcb-4244-8f16-87dde32151bc",
     "showTitle": false,
     "title": ""
    }
   },
   "outputs": [
    {
     "output_type": "display_data",
     "data": {
      "text/html": [
       "<style scoped>\n",
       "  .table-result-container {\n",
       "    max-height: 300px;\n",
       "    overflow: auto;\n",
       "  }\n",
       "  table, th, td {\n",
       "    border: 1px solid black;\n",
       "    border-collapse: collapse;\n",
       "  }\n",
       "  th, td {\n",
       "    padding: 5px;\n",
       "  }\n",
       "  th {\n",
       "    text-align: left;\n",
       "  }\n",
       "</style><div class='table-result-container'><table class='table-result'><thead style='background-color: white'><tr><th>num_affected_rows</th><th>num_inserted_rows</th></tr></thead><tbody></tbody></table></div>"
      ]
     },
     "metadata": {
      "application/vnd.databricks.v1+output": {
       "addedWidgets": {},
       "aggData": [],
       "aggError": "",
       "aggOverflow": false,
       "aggSchema": [],
       "aggSeriesLimitReached": false,
       "aggType": "",
       "arguments": {},
       "columnCustomDisplayInfos": {},
       "data": [],
       "datasetInfos": [],
       "dbfsResultPath": null,
       "isJsonSchema": true,
       "metadata": {
        "isDbfsCommandResult": false
       },
       "overflow": false,
       "plotOptions": {
        "customPlotOptions": {},
        "displayType": "table",
        "pivotAggregation": null,
        "pivotColumns": null,
        "xColumns": null,
        "yColumns": null
       },
       "removedWidgets": [],
       "schema": [
        {
         "metadata": "{}",
         "name": "num_affected_rows",
         "type": "\"long\""
        },
        {
         "metadata": "{}",
         "name": "num_inserted_rows",
         "type": "\"long\""
        }
       ],
       "type": "table"
      }
     },
     "output_type": "display_data"
    }
   ],
   "source": [
    "%sql\n",
    "-- crear tabla usando delta\n",
    "DROP TABLE IF EXISTS flights;\n",
    "-- Create a standard table and import US based flights for year 2008\n",
    "-- USING Clause: Specify \"delta\" format instead of the standard parquet format\n",
    "-- PARTITIONED BY clause: Orginize data based on \"Origin\" column (Originating Airport code).\n",
    "-- FROM Clause: Import data from a csv file.\n",
    "CREATE TABLE flights\n",
    "USING\n",
    "  delta\n",
    "PARTITIONED BY\n",
    "  (Origin)\n",
    "SELECT\n",
    "  _c0 AS Year,\n",
    "  _c1 AS MONTH,\n",
    "  _c2 AS DayofMonth,\n",
    "  _c3 AS DayOfWeek,\n",
    "  _c4 AS DepartureTime,\n",
    "  _c5 AS CRSDepartureTime,\n",
    "  _c6 AS ArrivalTime,\n",
    "  _c7 AS CRSArrivalTime,\n",
    "  _c8 AS UniqueCarrier,\n",
    "  _c9 AS FlightNumber,\n",
    "  _c10 AS TailNumber,\n",
    "  _c11 AS ActualElapsedTime,\n",
    "  _c12 AS CRSElapsedTime,\n",
    "  _c13 AS AirTime,\n",
    "  _c14 AS ArrivalDelay,\n",
    "  _c15 AS DepartureDelay,\n",
    "  _c16 AS Origin,\n",
    "  _c17 AS Destination,\n",
    "  _c18 AS Distance,\n",
    "  _c19 AS TaxiIn,\n",
    "  _c20 AS TaxiOut,\n",
    "  _c21 AS Cancelled,\n",
    "  _c22 AS CancellationCode,\n",
    "  _c23 AS Diverted,\n",
    "  _c24 AS CarrierDelay,\n",
    "  _c25 AS WeatherDelay,\n",
    "  _c26 AS NASDelay,\n",
    "  _c27 AS SecurityDelay,\n",
    "  _c28 AS LateAircraftDelay\n",
    "FROM\n",
    "  csv.`dbfs:/databricks-datasets/asa/airlines/2008.csv`;"
   ]
  },
  {
   "cell_type": "markdown",
   "metadata": {
    "application/vnd.databricks.v1+cell": {
     "cellMetadata": {},
     "inputWidgets": {},
     "nuid": "a8cb5b9d-20aa-464a-9e4b-fa38dab30aa2",
     "showTitle": false,
     "title": ""
    }
   },
   "source": [
    "## Optimize your table\n",
    "\n",
    "If your organization continuously writes data to a Delta table, it will over time accumulate a large number of files, especially if you add data in small batches. For analysts, a common complaint in querying data lakes is read efficiency; and having a large collection of small files to sift through everytime data is queried can create performance problems. Ideally, a large number of small files should be rewritten into a smaller number of larger files on a regular basis, which will improve the speed of read queries from a table. This is known as compaction. You can compact a table using the `OPTIMIZE` command shown below. \n",
    "\n",
    "Z-ordering co-locates column information (recall that Delta is columnar storage). Co-locality is used by Delta Lake data-skipping algorithms to dramatically reduce the amount of data that needs to be read. You can specify multiple columns for ZORDER BY as a comma-separated list. However, the effectiveness of the locality drops with each additional column. Read more about optimizing Delta tables [here](https://docs.databricks.com/spark/latest/spark-sql/language-manual/delta-optimize.html)."
   ]
  },
  {
   "cell_type": "code",
   "execution_count": 0,
   "metadata": {
    "application/vnd.databricks.v1+cell": {
     "cellMetadata": {
      "byteLimit": 2048000,
      "rowLimit": 10000
     },
     "inputWidgets": {},
     "nuid": "6d001426-b2a3-4f28-a4d4-65ad39916216",
     "showTitle": false,
     "title": ""
    }
   },
   "outputs": [],
   "source": [
    "%sql\n",
    "-- OPTIMIZE -> optimizador sobre tablas delta, ZORDER BY optimizador para ordenar\n",
    "OPTIMIZE flights ZORDER BY (DayofWeek);"
   ]
  },
  {
   "cell_type": "markdown",
   "metadata": {
    "application/vnd.databricks.v1+cell": {
     "cellMetadata": {},
     "inputWidgets": {},
     "nuid": "39ed9715-e450-4367-976f-65dd1619f5cd",
     "showTitle": false,
     "title": ""
    }
   },
   "source": [
    "## Rerun the query\n",
    "Run the query below to compare performance for a standard Parquet table with an optimized Delta table. "
   ]
  },
  {
   "cell_type": "code",
   "execution_count": 0,
   "metadata": {
    "application/vnd.databricks.v1+cell": {
     "cellMetadata": {
      "byteLimit": 2048000,
      "rowLimit": 10000
     },
     "inputWidgets": {},
     "nuid": "738678d4-3dd5-4f8b-82c9-de84512ad0f5",
     "showTitle": false,
     "title": ""
    }
   },
   "outputs": [
    {
     "output_type": "display_data",
     "data": {
      "text/html": [
       "<style scoped>\n",
       "  .ansiout {\n",
       "    display: block;\n",
       "    unicode-bidi: embed;\n",
       "    white-space: pre-wrap;\n",
       "    word-wrap: break-word;\n",
       "    word-break: break-all;\n",
       "    font-family: \"Menlo\", \"Monaco\", \"Consolas\", \"Ubuntu Mono\", \"Source Code Pro\", monospace;\n",
       "    font-size: 13px;\n",
       "    color: #555;\n",
       "    margin-left: 4px;\n",
       "    line-height: 19px;\n",
       "  }\n",
       "</style>"
      ]
     },
     "metadata": {
      "application/vnd.databricks.v1+output": {
       "arguments": {},
       "data": "",
       "errorSummary": "Cancelled",
       "errorTraceType": "html",
       "metadata": {},
       "type": "ipynbError"
      }
     },
     "output_type": "display_data"
    }
   ],
   "source": [
    "%sql\n",
    "-- comparar tiempos entre tabla normal y tabla delta\n",
    "SELECT Month, Origin, count(*) as TotalFlights \n",
    "FROM flights\n",
    "WHERE DayOfWeek = 1 \n",
    "GROUP BY Month, Origin \n",
    "ORDER BY TotalFlights DESC\n",
    "LIMIT 20;"
   ]
  },
  {
   "cell_type": "markdown",
   "metadata": {
    "application/vnd.databricks.v1+cell": {
     "cellMetadata": {},
     "inputWidgets": {},
     "nuid": "42867291-da34-45f7-abdb-ec93b9f98b76",
     "showTitle": false,
     "title": ""
    }
   },
   "source": [
    "## Delta Cache \n",
    "\n",
    "Using the Delta cache is an excellent way to optimize performance. Note: The Delta cache is *not* the same as caching in Apache Spark, which we talked about in Module 4. One notable difference is that the Delta cache is stored entirely on the local disk, so that memory is not taken away from other operations within Spark. When enabled, the Delta cache automatically creates a copy of a remote file in local storage so that successive reads are significantly sped up. Unfortunately, to enable it, you must choose a cluster type that is not available in Databricks Community Edition. \n",
    "\n",
    "To better understand the differences between Delta caching and Apache Spark caching, please read, [\"Delta and Apache Spark caching.\"](https://docs.databricks.com/delta/optimizations/delta-cache.html#delta-and-apache-spark-caching)"
   ]
  },
  {
   "cell_type": "code",
   "execution_count": 0,
   "metadata": {
    "application/vnd.databricks.v1+cell": {
     "cellMetadata": {},
     "inputWidgets": {},
     "nuid": "b1fae91d-7148-47f2-98d9-f5fa0cb3649d",
     "showTitle": false,
     "title": ""
    }
   },
   "outputs": [],
   "source": [
    "%run ../Includes/Classroom-Cleanup\n"
   ]
  },
  {
   "cell_type": "markdown",
   "metadata": {
    "application/vnd.databricks.v1+cell": {
     "cellMetadata": {},
     "inputWidgets": {},
     "nuid": "41674e1f-ab68-4c5c-97c8-9403a9da001c",
     "showTitle": false,
     "title": ""
    }
   },
   "source": [
    "&copy; 2020 Databricks, Inc. All rights reserved.<br/>\n",
    "Apache, Apache Spark, Spark and the Spark logo are trademarks of the <a href=\"http://www.apache.org/\">Apache Software Foundation</a>.<br/>\n",
    "<br/>\n",
    "<a href=\"https://databricks.com/privacy-policy\">Privacy Policy</a> | <a href=\"https://databricks.com/terms-of-use\">Terms of Use</a> | <a href=\"http://help.databricks.com/\">Support</a>"
   ]
  }
 ],
 "metadata": {
  "application/vnd.databricks.v1+notebook": {
   "dashboards": [],
   "language": "python",
   "notebookMetadata": {
    "mostRecentlyExecutedCommandWithImplicitDF": {
     "commandId": 586750666190559,
     "dataframes": [
      "_sqldf"
     ]
    },
    "pythonIndentUnit": 2
   },
   "notebookName": "8.3 Optimizing Delta",
   "widgets": {}
  }
 },
 "nbformat": 4,
 "nbformat_minor": 0
}
