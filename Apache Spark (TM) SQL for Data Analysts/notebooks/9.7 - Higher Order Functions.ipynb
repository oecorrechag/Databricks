{
 "cells": [
  {
   "cell_type": "markdown",
   "metadata": {
    "application/vnd.databricks.v1+cell": {
     "cellMetadata": {},
     "inputWidgets": {},
     "nuid": "617aa047-2153-4f20-87f6-9626f27b3053",
     "showTitle": false,
     "title": ""
    }
   },
   "source": [
    "\n",
    "<div style=\"text-align: center; line-height: 0; padding-top: 9px;\">\n",
    "  <img src=\"https://databricks.com/wp-content/uploads/2018/03/db-academy-rgb-1200px.png\" alt=\"Databricks Learning\" style=\"width: 600px\">\n",
    "</div>"
   ]
  },
  {
   "cell_type": "markdown",
   "metadata": {
    "application/vnd.databricks.v1+cell": {
     "cellMetadata": {},
     "inputWidgets": {},
     "nuid": "42d74d5e-a3c5-447b-9bc5-cedfb26076eb",
     "showTitle": false,
     "title": ""
    }
   },
   "source": [
    "## Create Tables\n",
    "Run the cell below to create tables for the questions in this notebook. "
   ]
  },
  {
   "cell_type": "code",
   "execution_count": 0,
   "metadata": {
    "application/vnd.databricks.v1+cell": {
     "cellMetadata": {
      "byteLimit": 2048000,
      "rowLimit": 10000
     },
     "inputWidgets": {},
     "nuid": "bac5240d-dfc0-4b34-86f0-8bfe0cb78c28",
     "showTitle": false,
     "title": ""
    }
   },
   "outputs": [
    {
     "output_type": "display_data",
     "data": {
      "text/html": [
       ""
      ]
     },
     "metadata": {
      "application/vnd.databricks.v1+output": {
       "addedWidgets": {},
       "arguments": {},
       "data": "",
       "datasetInfos": [],
       "metadata": {
        "isDbfsCommandResult": false
       },
       "removedWidgets": [],
       "textData": null,
       "type": "htmlSandbox"
      }
     },
     "output_type": "display_data"
    },
    {
     "output_type": "display_data",
     "data": {
      "application/vnd.databricks.v1+bamboolib_hint": "{\"pd.DataFrames\": [], \"version\": \"0.0.1\"}",
      "text/plain": []
     },
     "metadata": {},
     "output_type": "display_data"
    },
    {
     "output_type": "display_data",
     "data": {
      "text/html": [
       "\n",
       "Declared the following table:\n",
       "  <li><span style=\"color:green; font-weight:bold\">finances</span></li>\n"
      ]
     },
     "metadata": {
      "application/vnd.databricks.v1+output": {
       "addedWidgets": {},
       "arguments": {},
       "data": "\nDeclared the following table:\n  <li><span style=\"color:green; font-weight:bold\">finances</span></li>\n",
       "datasetInfos": [],
       "metadata": {},
       "removedWidgets": [],
       "textData": null,
       "type": "htmlSandbox"
      }
     },
     "output_type": "display_data"
    },
    {
     "output_type": "display_data",
     "data": {
      "text/html": [
       "\n",
       "Declared the following table:\n",
       "  <li><span style=\"color:green; font-weight:bold\">charges</span></li>\n"
      ]
     },
     "metadata": {
      "application/vnd.databricks.v1+output": {
       "addedWidgets": {},
       "arguments": {},
       "data": "\nDeclared the following table:\n  <li><span style=\"color:green; font-weight:bold\">charges</span></li>\n",
       "datasetInfos": [],
       "metadata": {},
       "removedWidgets": [],
       "textData": null,
       "type": "htmlSandbox"
      }
     },
     "output_type": "display_data"
    }
   ],
   "source": [
    "%run ../Utilities/07-CreateTables"
   ]
  },
  {
   "cell_type": "markdown",
   "metadata": {
    "application/vnd.databricks.v1+cell": {
     "cellMetadata": {},
     "inputWidgets": {},
     "nuid": "f009eb1f-d32f-4bd0-b130-3e6f82120f90",
     "showTitle": false,
     "title": ""
    }
   },
   "source": [
    "## Question 1: Transform\n",
    "### Summary\n",
    "Use the **`TRANSFORM`** function and the table **`finances`** to calculate **`interest`** for all cards issued to each user. \n",
    "\n",
    "\n",
    "### Steps to complete\n",
    "Write a SQL query that achieves the following: \n",
    "* Displays cardholder's **`firstName`**, **`lastName`**, and a new column named **`interest`**\n",
    "* Uses **`TRANSFORM`** to extract charges for each card in the expenses column and calculates interest owed assuming a rate of 6.25%. \n",
    "* Stores the new values as an array in the interest column\n",
    "* Stores results in a temporary table named `q1Results`\n",
    "\n",
    "A properly completed solution should return a view that looks similar to this:\n",
    "\n",
    "| firstName | lastName | interest |\n",
    "|----------- |---------|----------|\n",
    "|Lance|Da Costa|[138.9, 373.55, 158.97]|"
   ]
  },
  {
   "cell_type": "code",
   "execution_count": 0,
   "metadata": {
    "application/vnd.databricks.v1+cell": {
     "cellMetadata": {
      "byteLimit": 2048000,
      "rowLimit": 10000
     },
     "inputWidgets": {},
     "nuid": "e94d9a3f-901d-4760-a074-35fe3ba4d38a",
     "showTitle": false,
     "title": ""
    }
   },
   "outputs": [
    {
     "output_type": "display_data",
     "data": {
      "text/html": [
       "<style scoped>\n",
       "  .table-result-container {\n",
       "    max-height: 300px;\n",
       "    overflow: auto;\n",
       "  }\n",
       "  table, th, td {\n",
       "    border: 1px solid black;\n",
       "    border-collapse: collapse;\n",
       "  }\n",
       "  th, td {\n",
       "    padding: 5px;\n",
       "  }\n",
       "  th {\n",
       "    text-align: left;\n",
       "  }\n",
       "</style><div class='table-result-container'><table class='table-result'><thead style='background-color: white'><tr><th>id</th><th>firstName</th><th>lastName</th><th>expenses</th></tr></thead><tbody><tr><td>1</td><td>Lance</td><td>Da Costa</td><td>List(Map(lastPayment -> 2020-07-18, paymentDue -> 2020-07-18, charges -> 2222.46, currency -> USD, cardType -> jcb), Map(lastPayment -> 2020-07-01, paymentDue -> 2020-07-22, charges -> 5976.76, currency -> USD, cardType -> jcb), Map(lastPayment -> 2020-07-12, paymentDue -> 2020-07-22, charges -> 2543.55, currency -> USD, cardType -> visa))</td></tr><tr><td>2</td><td>Emilie</td><td>Newlove</td><td>List(Map(lastPayment -> 2020-07-10, paymentDue -> 2020-07-08, charges -> 6344.33, currency -> USD, cardType -> bankcard))</td></tr><tr><td>3</td><td>Alvy</td><td>Records</td><td>List(Map(lastPayment -> 2020-07-02, paymentDue -> 2020-07-29, charges -> 9170.83, currency -> USD, cardType -> mastercard), Map(lastPayment -> 2020-07-06, paymentDue -> 2020-07-22, charges -> 3201.67, currency -> USD, cardType -> maestro), Map(lastPayment -> 2020-07-28, paymentDue -> 2020-07-08, charges -> 6087.61, currency -> USD, cardType -> americanexpress), Map(lastPayment -> 2020-07-12, paymentDue -> 2020-07-21, charges -> 3392.61, currency -> USD, cardType -> americanexpress))</td></tr><tr><td>4</td><td>Jena</td><td>Fairley</td><td>List(Map(lastPayment -> 2020-07-25, paymentDue -> 2020-07-17, charges -> 9726.16, currency -> USD, cardType -> jcb), Map(lastPayment -> 2020-07-27, paymentDue -> 2020-07-14, charges -> 2578.18, currency -> USD, cardType -> americanexpress))</td></tr><tr><td>5</td><td>Klarika</td><td>Pady</td><td>List(Map(lastPayment -> 2020-07-12, paymentDue -> 2020-07-17, charges -> 8460.46, currency -> USD, cardType -> bankcard), Map(lastPayment -> 2020-07-11, paymentDue -> 2020-07-08, charges -> 8573.72, currency -> USD, cardType -> bankcard))</td></tr></tbody></table></div>"
      ]
     },
     "metadata": {
      "application/vnd.databricks.v1+output": {
       "addedWidgets": {},
       "aggData": [],
       "aggError": "",
       "aggOverflow": false,
       "aggSchema": [],
       "aggSeriesLimitReached": false,
       "aggType": "",
       "arguments": {},
       "columnCustomDisplayInfos": {},
       "data": [
        [
         1,
         "Lance",
         "Da Costa",
         [
          {
           "cardType": "jcb",
           "charges": "2222.46",
           "currency": "USD",
           "lastPayment": "2020-07-18",
           "paymentDue": "2020-07-18"
          },
          {
           "cardType": "jcb",
           "charges": "5976.76",
           "currency": "USD",
           "lastPayment": "2020-07-01",
           "paymentDue": "2020-07-22"
          },
          {
           "cardType": "visa",
           "charges": "2543.55",
           "currency": "USD",
           "lastPayment": "2020-07-12",
           "paymentDue": "2020-07-22"
          }
         ]
        ],
        [
         2,
         "Emilie",
         "Newlove",
         [
          {
           "cardType": "bankcard",
           "charges": "6344.33",
           "currency": "USD",
           "lastPayment": "2020-07-10",
           "paymentDue": "2020-07-08"
          }
         ]
        ],
        [
         3,
         "Alvy",
         "Records",
         [
          {
           "cardType": "mastercard",
           "charges": "9170.83",
           "currency": "USD",
           "lastPayment": "2020-07-02",
           "paymentDue": "2020-07-29"
          },
          {
           "cardType": "maestro",
           "charges": "3201.67",
           "currency": "USD",
           "lastPayment": "2020-07-06",
           "paymentDue": "2020-07-22"
          },
          {
           "cardType": "americanexpress",
           "charges": "6087.61",
           "currency": "USD",
           "lastPayment": "2020-07-28",
           "paymentDue": "2020-07-08"
          },
          {
           "cardType": "americanexpress",
           "charges": "3392.61",
           "currency": "USD",
           "lastPayment": "2020-07-12",
           "paymentDue": "2020-07-21"
          }
         ]
        ],
        [
         4,
         "Jena",
         "Fairley",
         [
          {
           "cardType": "jcb",
           "charges": "9726.16",
           "currency": "USD",
           "lastPayment": "2020-07-25",
           "paymentDue": "2020-07-17"
          },
          {
           "cardType": "americanexpress",
           "charges": "2578.18",
           "currency": "USD",
           "lastPayment": "2020-07-27",
           "paymentDue": "2020-07-14"
          }
         ]
        ],
        [
         5,
         "Klarika",
         "Pady",
         [
          {
           "cardType": "bankcard",
           "charges": "8460.46",
           "currency": "USD",
           "lastPayment": "2020-07-12",
           "paymentDue": "2020-07-17"
          },
          {
           "cardType": "bankcard",
           "charges": "8573.72",
           "currency": "USD",
           "lastPayment": "2020-07-11",
           "paymentDue": "2020-07-08"
          }
         ]
        ]
       ],
       "datasetInfos": [],
       "dbfsResultPath": null,
       "isJsonSchema": true,
       "metadata": {
        "isDbfsCommandResult": false
       },
       "overflow": false,
       "plotOptions": {
        "customPlotOptions": {},
        "displayType": "table",
        "pivotAggregation": null,
        "pivotColumns": null,
        "xColumns": null,
        "yColumns": null
       },
       "removedWidgets": [],
       "schema": [
        {
         "metadata": "{}",
         "name": "id",
         "type": "\"long\""
        },
        {
         "metadata": "{}",
         "name": "firstName",
         "type": "\"string\""
        },
        {
         "metadata": "{}",
         "name": "lastName",
         "type": "\"string\""
        },
        {
         "metadata": "{}",
         "name": "expenses",
         "type": "{\"type\":\"array\",\"elementType\":{\"type\":\"map\",\"keyType\":\"string\",\"valueType\":\"string\",\"valueContainsNull\":true},\"containsNull\":true}"
        }
       ],
       "type": "table"
      }
     },
     "output_type": "display_data"
    }
   ],
   "source": [
    "%sql\n",
    "SELECT *\n",
    "FROM finances;"
   ]
  },
  {
   "cell_type": "code",
   "execution_count": 0,
   "metadata": {
    "application/vnd.databricks.v1+cell": {
     "cellMetadata": {
      "byteLimit": 2048000,
      "rowLimit": 10000
     },
     "inputWidgets": {},
     "nuid": "96461221-6948-4918-988a-ea1e93e3f4cb",
     "showTitle": false,
     "title": ""
    }
   },
   "outputs": [
    {
     "output_type": "display_data",
     "data": {
      "text/html": [
       "<style scoped>\n",
       "  .table-result-container {\n",
       "    max-height: 300px;\n",
       "    overflow: auto;\n",
       "  }\n",
       "  table, th, td {\n",
       "    border: 1px solid black;\n",
       "    border-collapse: collapse;\n",
       "  }\n",
       "  th, td {\n",
       "    padding: 5px;\n",
       "  }\n",
       "  th {\n",
       "    text-align: left;\n",
       "  }\n",
       "</style><div class='table-result-container'><table class='table-result'><thead style='background-color: white'><tr><th>firstName</th><th>lastName</th><th>interest</th></tr></thead><tbody><tr><td>Lance</td><td>Da Costa</td><td>List(138.9, 373.55, 158.97)</td></tr><tr><td>Emilie</td><td>Newlove</td><td>List(396.52)</td></tr><tr><td>Alvy</td><td>Records</td><td>List(573.18, 200.1, 380.48, 212.04)</td></tr><tr><td>Jena</td><td>Fairley</td><td>List(607.89, 161.14)</td></tr><tr><td>Klarika</td><td>Pady</td><td>List(528.78, 535.86)</td></tr></tbody></table></div>"
      ]
     },
     "metadata": {
      "application/vnd.databricks.v1+output": {
       "addedWidgets": {},
       "aggData": [],
       "aggError": "",
       "aggOverflow": false,
       "aggSchema": [],
       "aggSeriesLimitReached": false,
       "aggType": "",
       "arguments": {},
       "columnCustomDisplayInfos": {},
       "data": [
        [
         "Lance",
         "Da Costa",
         [
          138.9,
          373.55,
          158.97
         ]
        ],
        [
         "Emilie",
         "Newlove",
         [
          396.52
         ]
        ],
        [
         "Alvy",
         "Records",
         [
          573.18,
          200.1,
          380.48,
          212.04
         ]
        ],
        [
         "Jena",
         "Fairley",
         [
          607.89,
          161.14
         ]
        ],
        [
         "Klarika",
         "Pady",
         [
          528.78,
          535.86
         ]
        ]
       ],
       "datasetInfos": [],
       "dbfsResultPath": null,
       "isJsonSchema": true,
       "metadata": {
        "isDbfsCommandResult": false
       },
       "overflow": false,
       "plotOptions": {
        "customPlotOptions": {},
        "displayType": "table",
        "pivotAggregation": null,
        "pivotColumns": null,
        "xColumns": null,
        "yColumns": null
       },
       "removedWidgets": [],
       "schema": [
        {
         "metadata": "{}",
         "name": "firstName",
         "type": "\"string\""
        },
        {
         "metadata": "{}",
         "name": "lastName",
         "type": "\"string\""
        },
        {
         "metadata": "{}",
         "name": "interest",
         "type": "{\"type\":\"array\",\"elementType\":\"double\",\"containsNull\":true}"
        }
       ],
       "type": "table"
      }
     },
     "output_type": "display_data"
    }
   ],
   "source": [
    "%sql\n",
    "SELECT firstName, lastName, \n",
    "TRANSFORM(expenses, card -> ROUND(card.charges * 0.0625, 2)) AS interest \n",
    "FROM finances;"
   ]
  },
  {
   "cell_type": "markdown",
   "metadata": {
    "application/vnd.databricks.v1+cell": {
     "cellMetadata": {},
     "inputWidgets": {},
     "nuid": "84be7415-557e-43f7-808c-c8747a77dc32",
     "showTitle": false,
     "title": ""
    }
   },
   "source": [
    "## Question 2: Exists\n",
    "### Summary\n",
    "Use the table from Question 1, **`finances`**, to flag users whose records indicate that they made a late payment. \n",
    "\n",
    "### Steps to complete\n",
    "Write a SQL query that achieves the following: \n",
    "* Displays cardholder's **`firstName`**, **`lastName`**, and a new column named **`lateFee`**\n",
    "* Uses the EXISTS function to flag customers who have made been charged a late payment fee.\n",
    "* Store the results in a temporary view named **`q2Results`**\n",
    "   \n",
    "A properly completed solution should return a DataFrame that looks similar to this:\n",
    "\n",
    "| firstName | lastName | lateFee |\n",
    "|---------- |----------| ------- |\n",
    "|Lance|DaCosta |true|"
   ]
  },
  {
   "cell_type": "code",
   "execution_count": 0,
   "metadata": {
    "application/vnd.databricks.v1+cell": {
     "cellMetadata": {
      "byteLimit": 2048000,
      "rowLimit": 10000
     },
     "inputWidgets": {},
     "nuid": "4862c381-1276-4842-84ba-5c2ef8db5457",
     "showTitle": false,
     "title": ""
    }
   },
   "outputs": [
    {
     "output_type": "display_data",
     "data": {
      "text/html": [
       "<style scoped>\n",
       "  .table-result-container {\n",
       "    max-height: 300px;\n",
       "    overflow: auto;\n",
       "  }\n",
       "  table, th, td {\n",
       "    border: 1px solid black;\n",
       "    border-collapse: collapse;\n",
       "  }\n",
       "  th, td {\n",
       "    padding: 5px;\n",
       "  }\n",
       "  th {\n",
       "    text-align: left;\n",
       "  }\n",
       "</style><div class='table-result-container'><table class='table-result'><thead style='background-color: white'><tr></tr></thead><tbody></tbody></table></div>"
      ]
     },
     "metadata": {
      "application/vnd.databricks.v1+output": {
       "addedWidgets": {},
       "aggData": [],
       "aggError": "",
       "aggOverflow": false,
       "aggSchema": [],
       "aggSeriesLimitReached": false,
       "aggType": "",
       "arguments": {},
       "columnCustomDisplayInfos": {},
       "data": [],
       "datasetInfos": [],
       "dbfsResultPath": null,
       "isJsonSchema": true,
       "metadata": {
        "isDbfsCommandResult": false
       },
       "overflow": false,
       "plotOptions": {
        "customPlotOptions": {},
        "displayType": "table",
        "pivotAggregation": null,
        "pivotColumns": null,
        "xColumns": null,
        "yColumns": null
       },
       "removedWidgets": [],
       "schema": [],
       "type": "table"
      }
     },
     "output_type": "display_data"
    }
   ],
   "source": [
    "%sql\n",
    "CREATE \n",
    "OR REPLACE TEMPORARY VIEW q2Results AS\n",
    "  SELECT firstName, lastName,\n",
    "  EXISTS(expenses, card -> TO_DATE(card.paymentDue) > TO_DATE(card.lastPayment)) AS lateFee\n",
    "  FROM finances;"
   ]
  },
  {
   "cell_type": "code",
   "execution_count": 0,
   "metadata": {
    "application/vnd.databricks.v1+cell": {
     "cellMetadata": {
      "byteLimit": 2048000,
      "rowLimit": 10000
     },
     "inputWidgets": {},
     "nuid": "267476c7-25e2-4e0f-a90d-e8d953f1a239",
     "showTitle": false,
     "title": ""
    }
   },
   "outputs": [
    {
     "output_type": "display_data",
     "data": {
      "text/html": [
       "<style scoped>\n",
       "  .table-result-container {\n",
       "    max-height: 300px;\n",
       "    overflow: auto;\n",
       "  }\n",
       "  table, th, td {\n",
       "    border: 1px solid black;\n",
       "    border-collapse: collapse;\n",
       "  }\n",
       "  th, td {\n",
       "    padding: 5px;\n",
       "  }\n",
       "  th {\n",
       "    text-align: left;\n",
       "  }\n",
       "</style><div class='table-result-container'><table class='table-result'><thead style='background-color: white'><tr><th>firstName</th><th>lastName</th><th>lateFee</th></tr></thead><tbody><tr><td>Lance</td><td>Da Costa</td><td>true</td></tr><tr><td>Emilie</td><td>Newlove</td><td>false</td></tr><tr><td>Alvy</td><td>Records</td><td>true</td></tr><tr><td>Jena</td><td>Fairley</td><td>false</td></tr><tr><td>Klarika</td><td>Pady</td><td>true</td></tr></tbody></table></div>"
      ]
     },
     "metadata": {
      "application/vnd.databricks.v1+output": {
       "addedWidgets": {},
       "aggData": [],
       "aggError": "",
       "aggOverflow": false,
       "aggSchema": [],
       "aggSeriesLimitReached": false,
       "aggType": "",
       "arguments": {},
       "columnCustomDisplayInfos": {},
       "data": [
        [
         "Lance",
         "Da Costa",
         true
        ],
        [
         "Emilie",
         "Newlove",
         false
        ],
        [
         "Alvy",
         "Records",
         true
        ],
        [
         "Jena",
         "Fairley",
         false
        ],
        [
         "Klarika",
         "Pady",
         true
        ]
       ],
       "datasetInfos": [],
       "dbfsResultPath": null,
       "isJsonSchema": true,
       "metadata": {
        "isDbfsCommandResult": false
       },
       "overflow": false,
       "plotOptions": {
        "customPlotOptions": {},
        "displayType": "table",
        "pivotAggregation": null,
        "pivotColumns": null,
        "xColumns": null,
        "yColumns": null
       },
       "removedWidgets": [],
       "schema": [
        {
         "metadata": "{}",
         "name": "firstName",
         "type": "\"string\""
        },
        {
         "metadata": "{}",
         "name": "lastName",
         "type": "\"string\""
        },
        {
         "metadata": "{}",
         "name": "lateFee",
         "type": "\"boolean\""
        }
       ],
       "type": "table"
      }
     },
     "output_type": "display_data"
    }
   ],
   "source": [
    "%sql\n",
    "SELECT \n",
    "  * \n",
    "FROM \n",
    "  q2Results;"
   ]
  },
  {
   "cell_type": "markdown",
   "metadata": {
    "application/vnd.databricks.v1+cell": {
     "cellMetadata": {},
     "inputWidgets": {},
     "nuid": "a88c4021-50a5-4d3c-96fe-3c6f60e93925",
     "showTitle": false,
     "title": ""
    }
   },
   "source": [
    "## Question 3: Reduce\n",
    "### Summary\n",
    "Use the **`REDUCE`** function to produce a query on the table **`charges`** that calculates total charges in dollars and total charges in Japanese Yen. \n",
    "\n",
    "### Steps to complete\n",
    "Write a SQL query that achieves the following: \n",
    "* Uses the **`REDUCE`** function to calculate the total charges in US Dollars (given)\n",
    "* Uses the **`REDUCE`** function to convert the total charges to Japanese Yen using a conversion rate where 1 USD = 107.26 JPY \n",
    "* Stores the results in a temporary table named **`q3Results`**\n",
    "   \n",
    "**NOTE:** In the `REDUCE` function, the accumulator must be of the same type as the input. You will have to `CAST` the accumulator as a `DOUBLE` to use this function with this data. \n",
    "example: `CAST (0 AS DOUBLE`)\n",
    "\n",
    "A properly completed solution should return a DataFrame that looks similar to this:\n",
    "\n",
    "| firstName | lastName | allCharges | totalDollars | totalYen |\n",
    "|---------- |----------| ------- | --------| ----------|\n",
    "|Lance|DaCosta |[\"2222.46\", \"5976.76\", \"2543.55\"]|10742.77|1152269.51|"
   ]
  },
  {
   "cell_type": "code",
   "execution_count": 0,
   "metadata": {
    "application/vnd.databricks.v1+cell": {
     "cellMetadata": {
      "byteLimit": 2048000,
      "rowLimit": 10000
     },
     "inputWidgets": {},
     "nuid": "e9a7c032-233b-4c8f-b193-e0ded71978b1",
     "showTitle": false,
     "title": ""
    }
   },
   "outputs": [
    {
     "output_type": "display_data",
     "data": {
      "text/html": [
       "<style scoped>\n",
       "  .table-result-container {\n",
       "    max-height: 300px;\n",
       "    overflow: auto;\n",
       "  }\n",
       "  table, th, td {\n",
       "    border: 1px solid black;\n",
       "    border-collapse: collapse;\n",
       "  }\n",
       "  th, td {\n",
       "    padding: 5px;\n",
       "  }\n",
       "  th {\n",
       "    text-align: left;\n",
       "  }\n",
       "</style><div class='table-result-container'><table class='table-result'><thead style='background-color: white'><tr></tr></thead><tbody></tbody></table></div>"
      ]
     },
     "metadata": {
      "application/vnd.databricks.v1+output": {
       "addedWidgets": {},
       "aggData": [],
       "aggError": "",
       "aggOverflow": false,
       "aggSchema": [],
       "aggSeriesLimitReached": false,
       "aggType": "",
       "arguments": {},
       "columnCustomDisplayInfos": {},
       "data": [],
       "datasetInfos": [],
       "dbfsResultPath": null,
       "isJsonSchema": true,
       "metadata": {
        "isDbfsCommandResult": false
       },
       "overflow": false,
       "plotOptions": {
        "customPlotOptions": {},
        "displayType": "table",
        "pivotAggregation": null,
        "pivotColumns": null,
        "xColumns": null,
        "yColumns": null
       },
       "removedWidgets": [],
       "schema": [],
       "type": "table"
      }
     },
     "output_type": "display_data"
    }
   ],
   "source": [
    "%sql\n",
    "CREATE OR REPLACE TEMPORARY VIEW q3Results AS\n",
    "  SELECT firstName, lastName, allCharges, \n",
    "  REDUCE (allCharges, CAST(0 AS DOUBLE), (charge, acc) -> charge + acc) AS totalDollars,\n",
    "  REDUCE (allCharges, CAST(0 AS DOUBLE), (charge, acc) -> charge + acc, acc -> ROUND(acc * 107.26, 2)) AS totalYen\n",
    "  FROM charges;"
   ]
  },
  {
   "cell_type": "code",
   "execution_count": 0,
   "metadata": {
    "application/vnd.databricks.v1+cell": {
     "cellMetadata": {
      "byteLimit": 2048000,
      "rowLimit": 10000
     },
     "inputWidgets": {},
     "nuid": "fdd7b9f8-e9eb-45ea-84fb-66f771bd2ae5",
     "showTitle": false,
     "title": ""
    }
   },
   "outputs": [
    {
     "output_type": "display_data",
     "data": {
      "text/html": [
       "<style scoped>\n",
       "  .table-result-container {\n",
       "    max-height: 300px;\n",
       "    overflow: auto;\n",
       "  }\n",
       "  table, th, td {\n",
       "    border: 1px solid black;\n",
       "    border-collapse: collapse;\n",
       "  }\n",
       "  th, td {\n",
       "    padding: 5px;\n",
       "  }\n",
       "  th {\n",
       "    text-align: left;\n",
       "  }\n",
       "</style><div class='table-result-container'><table class='table-result'><thead style='background-color: white'><tr><th>firstName</th><th>lastName</th><th>allCharges</th><th>totalDollars</th><th>totalYen</th></tr></thead><tbody><tr><td>Lance</td><td>Da Costa</td><td>List(2222.46, 5976.76, 2543.55)</td><td>10742.77</td><td>1152269.51</td></tr><tr><td>Emilie</td><td>Newlove</td><td>List(6344.33)</td><td>6344.33</td><td>680492.84</td></tr><tr><td>Alvy</td><td>Records</td><td>List(9170.83, 3201.67, 6087.61, 3392.61)</td><td>21852.72</td><td>2343922.75</td></tr><tr><td>Jena</td><td>Fairley</td><td>List(9726.16, 2578.18)</td><td>12304.34</td><td>1319763.51</td></tr><tr><td>Klarika</td><td>Pady</td><td>List(8460.46, 8573.72)</td><td>17034.18</td><td>1827086.15</td></tr></tbody></table></div>"
      ]
     },
     "metadata": {
      "application/vnd.databricks.v1+output": {
       "addedWidgets": {},
       "aggData": [],
       "aggError": "",
       "aggOverflow": false,
       "aggSchema": [],
       "aggSeriesLimitReached": false,
       "aggType": "",
       "arguments": {},
       "columnCustomDisplayInfos": {},
       "data": [
        [
         "Lance",
         "Da Costa",
         [
          "2222.46",
          "5976.76",
          "2543.55"
         ],
         10742.77,
         1152269.51
        ],
        [
         "Emilie",
         "Newlove",
         [
          "6344.33"
         ],
         6344.33,
         680492.84
        ],
        [
         "Alvy",
         "Records",
         [
          "9170.83",
          "3201.67",
          "6087.61",
          "3392.61"
         ],
         21852.72,
         2343922.75
        ],
        [
         "Jena",
         "Fairley",
         [
          "9726.16",
          "2578.18"
         ],
         12304.34,
         1319763.51
        ],
        [
         "Klarika",
         "Pady",
         [
          "8460.46",
          "8573.72"
         ],
         17034.18,
         1827086.15
        ]
       ],
       "datasetInfos": [],
       "dbfsResultPath": null,
       "isJsonSchema": true,
       "metadata": {
        "isDbfsCommandResult": false
       },
       "overflow": false,
       "plotOptions": {
        "customPlotOptions": {},
        "displayType": "table",
        "pivotAggregation": null,
        "pivotColumns": null,
        "xColumns": null,
        "yColumns": null
       },
       "removedWidgets": [],
       "schema": [
        {
         "metadata": "{}",
         "name": "firstName",
         "type": "\"string\""
        },
        {
         "metadata": "{}",
         "name": "lastName",
         "type": "\"string\""
        },
        {
         "metadata": "{}",
         "name": "allCharges",
         "type": "{\"type\":\"array\",\"elementType\":\"string\",\"containsNull\":true}"
        },
        {
         "metadata": "{}",
         "name": "totalDollars",
         "type": "\"double\""
        },
        {
         "metadata": "{}",
         "name": "totalYen",
         "type": "\"double\""
        }
       ],
       "type": "table"
      }
     },
     "output_type": "display_data"
    }
   ],
   "source": [
    "%sql\n",
    "SELECT\n",
    " * \n",
    "FROM\n",
    " q3Results;"
   ]
  },
  {
   "cell_type": "markdown",
   "metadata": {
    "application/vnd.databricks.v1+cell": {
     "cellMetadata": {},
     "inputWidgets": {},
     "nuid": "4da7074f-6c20-4504-9ee2-12d93c5a84ee",
     "showTitle": false,
     "title": ""
    }
   },
   "source": [
    "&copy; 2020 Databricks, Inc. All rights reserved.<br/>\n",
    "Apache, Apache Spark, Spark and the Spark logo are trademarks of the <a href=\"http://www.apache.org/\">Apache Software Foundation</a>.<br/>\n",
    "<br/>\n",
    "<a href=\"https://databricks.com/privacy-policy\">Privacy Policy</a> | <a href=\"https://databricks.com/terms-of-use\">Terms of Use</a> | <a href=\"http://help.databricks.com/\">Support</a>"
   ]
  }
 ],
 "metadata": {
  "application/vnd.databricks.v1+notebook": {
   "dashboards": [],
   "language": "python",
   "notebookMetadata": {
    "pythonIndentUnit": 2
   },
   "notebookName": "07 - Higher Order Functions",
   "widgets": {}
  }
 },
 "nbformat": 4,
 "nbformat_minor": 0
}
