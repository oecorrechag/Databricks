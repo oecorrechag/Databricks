{
 "cells": [
  {
   "cell_type": "markdown",
   "metadata": {
    "application/vnd.databricks.v1+cell": {
     "cellMetadata": {},
     "inputWidgets": {},
     "nuid": "5baf9b72-f77e-487c-96d3-9705735ac747",
     "showTitle": false,
     "title": ""
    }
   },
   "source": [
    "\n",
    "<div style=\"text-align: center; line-height: 0; padding-top: 9px;\">\n",
    "  <img src=\"https://databricks.com/wp-content/uploads/2018/03/db-academy-rgb-1200px.png\" alt=\"Databricks Learning\" style=\"width: 600px\">\n",
    "</div>"
   ]
  },
  {
   "cell_type": "markdown",
   "metadata": {
    "application/vnd.databricks.v1+cell": {
     "cellMetadata": {},
     "inputWidgets": {},
     "nuid": "88d09fe3-f07d-4fdc-984e-6d9fdb770c21",
     "showTitle": false,
     "title": ""
    }
   },
   "source": [
    "## Create Tables\n",
    "Run the cell below to create tables for the questions in this notebook. "
   ]
  },
  {
   "cell_type": "code",
   "execution_count": 0,
   "metadata": {
    "application/vnd.databricks.v1+cell": {
     "cellMetadata": {
      "byteLimit": 2048000,
      "rowLimit": 10000
     },
     "inputWidgets": {},
     "nuid": "1141ad36-4ac2-4d90-85e0-fc24933fcde3",
     "showTitle": false,
     "title": ""
    }
   },
   "outputs": [
    {
     "output_type": "display_data",
     "data": {
      "text/html": [
       ""
      ]
     },
     "metadata": {
      "application/vnd.databricks.v1+output": {
       "addedWidgets": {},
       "arguments": {},
       "data": "",
       "datasetInfos": [],
       "metadata": {
        "isDbfsCommandResult": false
       },
       "removedWidgets": [],
       "textData": null,
       "type": "htmlSandbox"
      }
     },
     "output_type": "display_data"
    },
    {
     "output_type": "display_data",
     "data": {
      "text/html": [
       "\n",
       "Declared the following table:\n",
       "  <li><span style=\"color:green; font-weight:bold\">databricksBlog</span></li>\n"
      ]
     },
     "metadata": {
      "application/vnd.databricks.v1+output": {
       "addedWidgets": {},
       "arguments": {},
       "data": "\nDeclared the following table:\n  <li><span style=\"color:green; font-weight:bold\">databricksBlog</span></li>\n",
       "datasetInfos": [],
       "metadata": {},
       "removedWidgets": [],
       "textData": null,
       "type": "htmlSandbox"
      }
     },
     "output_type": "display_data"
    }
   ],
   "source": [
    "%run ../Utilities/06-CreateTables"
   ]
  },
  {
   "cell_type": "markdown",
   "metadata": {
    "application/vnd.databricks.v1+cell": {
     "cellMetadata": {},
     "inputWidgets": {},
     "nuid": "9eb2c7b4-ce78-4626-8493-15a7bb1102fd",
     "showTitle": false,
     "title": ""
    }
   },
   "source": [
    "## Question 1: Array and Explode\n",
    "### Summary\n",
    "Get a distinct list of authors who have contributed blog posts in the \"Company Blog\" category.\n",
    "\n",
    "### Steps to complete\n",
    "Write a SQL query that achieves the following: \n",
    "- Explodes the **`authors`** field to create an **`author`** field that contains only one author per row in table **`databricksBlog`**.\n",
    "- Limits records to contain **only** unique authors\n",
    "- Filters records where **`categories`** include \"Company Blog\"\n",
    "- Store the results in a temporary view named  **`results`**\n",
    "\n",
    "A properly completed solution should produce a view named **`results`** similar to this sample output:\n",
    "\n",
    "|              author|        categories|\n",
    "|--------------------|----------------|\n",
    "|Anthony Joseph      |[\"Announcements\", \"Company Blog\"]| \n",
    "|Vida Ha        |[\"Company Blog\", \"Product\"]| \n",
    "|Nan Zhu (Chief Architect at Faimdata)    |[\"Company Blog\", \"Product\"]| "
   ]
  },
  {
   "cell_type": "code",
   "execution_count": 0,
   "metadata": {
    "application/vnd.databricks.v1+cell": {
     "cellMetadata": {
      "byteLimit": 2048000,
      "rowLimit": 10000
     },
     "inputWidgets": {},
     "nuid": "15a534da-55cf-4659-a531-8c3cd9a77ccc",
     "showTitle": false,
     "title": ""
    }
   },
   "outputs": [
    {
     "output_type": "display_data",
     "data": {
      "text/html": [
       "<style scoped>\n",
       "  .table-result-container {\n",
       "    max-height: 300px;\n",
       "    overflow: auto;\n",
       "  }\n",
       "  table, th, td {\n",
       "    border: 1px solid black;\n",
       "    border-collapse: collapse;\n",
       "  }\n",
       "  th, td {\n",
       "    padding: 5px;\n",
       "  }\n",
       "  th {\n",
       "    text-align: left;\n",
       "  }\n",
       "</style><div class='table-result-container'><table class='table-result'><thead style='background-color: white'><tr></tr></thead><tbody></tbody></table></div>"
      ]
     },
     "metadata": {
      "application/vnd.databricks.v1+output": {
       "addedWidgets": {},
       "aggData": [],
       "aggError": "",
       "aggOverflow": false,
       "aggSchema": [],
       "aggSeriesLimitReached": false,
       "aggType": "",
       "arguments": {},
       "columnCustomDisplayInfos": {},
       "data": [],
       "datasetInfos": [],
       "dbfsResultPath": null,
       "isJsonSchema": true,
       "metadata": {
        "isDbfsCommandResult": false
       },
       "overflow": false,
       "plotOptions": {
        "customPlotOptions": {},
        "displayType": "table",
        "pivotAggregation": null,
        "pivotColumns": null,
        "xColumns": null,
        "yColumns": null
       },
       "removedWidgets": [],
       "schema": [],
       "type": "table"
      }
     },
     "output_type": "display_data"
    }
   ],
   "source": [
    "%sql\n",
    "CREATE OR REPLACE TEMPORARY VIEW results AS\n",
    "  SELECT \n",
    "   DISTINCT (EXPLODE(authors)) AS author,\n",
    "   categories\n",
    "  FROM databricksBlog\n",
    "  WHERE array_contains(categories, \"Company Blog\");"
   ]
  },
  {
   "cell_type": "code",
   "execution_count": 0,
   "metadata": {
    "application/vnd.databricks.v1+cell": {
     "cellMetadata": {
      "byteLimit": 2048000,
      "rowLimit": 10000
     },
     "inputWidgets": {},
     "nuid": "93e77c42-41e7-4378-be7c-5fc04bf5cf5a",
     "showTitle": false,
     "title": ""
    }
   },
   "outputs": [
    {
     "output_type": "display_data",
     "data": {
      "text/html": [
       "<style scoped>\n",
       "  .table-result-container {\n",
       "    max-height: 300px;\n",
       "    overflow: auto;\n",
       "  }\n",
       "  table, th, td {\n",
       "    border: 1px solid black;\n",
       "    border-collapse: collapse;\n",
       "  }\n",
       "  th, td {\n",
       "    padding: 5px;\n",
       "  }\n",
       "  th {\n",
       "    text-align: left;\n",
       "  }\n",
       "</style><div class='table-result-container'><table class='table-result'><thead style='background-color: white'><tr><th>author</th><th>categories</th></tr></thead><tbody><tr><td>Anthony Joseph</td><td>List(Announcements, Company Blog)</td></tr><tr><td>Vida Ha</td><td>List(Company Blog, Product)</td></tr><tr><td>Nan Zhu (Chief Architect at Faimdata)</td><td>List(Company Blog, Partners)</td></tr><tr><td>Russell Cardullo (Sharethrough)</td><td>List(Company Blog, Customers)</td></tr><tr><td>Eric Carr (VP Core Systems Group at Guavus)</td><td>List(Company Blog, Partners)</td></tr><tr><td>Paco Nathan</td><td>List(Announcements, Company Blog)</td></tr><tr><td>Sonal Goyal (CEO)</td><td>List(Company Blog, Partners)</td></tr><tr><td>John Kreisa (VP of Strategic Marketing at Hortonworks)</td><td>List(Company Blog, Partners)</td></tr><tr><td>Databricks Press Office</td><td>List(Announcements, Company Blog, Partners)</td></tr><tr><td>Claudiu Barbura (Sr. Dir. of Engineering at Atigeo LLC)</td><td>List(Company Blog, Partners)</td></tr><tr><td>SriSatish Ambati (CEO of 0xData)</td><td>List(Company Blog, Partners)</td></tr><tr><td>Arsalan Tavakoli-Shiraji</td><td>List(Company Blog, Partners)</td></tr><tr><td>Christopher Burdorf (Senior Software Engineer at NBC Universal)</td><td>List(Company Blog, Customers)</td></tr><tr><td>Ion Stoica</td><td>List(Announcements, Company Blog)</td></tr><tr><td>Dave Wang (Databricks)</td><td>List(Announcements, Company Blog)</td></tr><tr><td>Patrick Wendell</td><td>List(Announcements, Company Blog)</td></tr><tr><td>Russell Cardullo (Data Infrastructure Engineer at Sharethrough)</td><td>List(Company Blog, Customers)</td></tr><tr><td>Tomer Shiran (VP of Product Management at MapR)</td><td>List(Company Blog, Partners)</td></tr><tr><td>Girish Kathalagiri (Data Analytics Engineer)</td><td>List(Company Blog, Partners)</td></tr><tr><td>Databricks Training Team</td><td>List(Announcements, Company Blog, Events)</td></tr><tr><td>Jeff Feng (Product Manager at Tableau Software)</td><td>List(Company Blog, Partners)</td></tr><tr><td>Ari Himmel (CEO at Faimdata)</td><td>List(Company Blog, Partners)</td></tr><tr><td>Scott Walent</td><td>List(Company Blog, Events)</td></tr><tr><td>Gavin Targonski (Product Management at Talend)</td><td>List(Company Blog, Partners)</td></tr><tr><td>Scott Walent</td><td>List(Announcements, Company Blog, Events)</td></tr><tr><td>Lieven Gesquiere (Virdata Lead Core R&D)</td><td>List(Company Blog, Partners)</td></tr><tr><td>Sachin Chawla (VP of Engineering)</td><td>List(Company Blog, Partners)</td></tr><tr><td>Sean Kandel (CTO at Trifacta)</td><td>List(Company Blog, Partners)</td></tr><tr><td>Jake Cornelius (SVP of Product Management at Pentaho)</td><td>List(Company Blog, Partners)</td></tr><tr><td>Andy Konwinski</td><td>List(Company Blog, Customers, Events)</td></tr><tr><td>Costin Leau (Engineer at Elasticsearch)</td><td>List(Company Blog, Partners)</td></tr><tr><td>Oscar Mendez (CEO of Stratio)</td><td>List(Company Blog, Partners)</td></tr><tr><td>Ion Stoica</td><td>List(Company Blog, Partners)</td></tr><tr><td>Ion Stoica</td><td>List(Company Blog, Product)</td></tr><tr><td>Steven Hillion</td><td>List(Company Blog, Partners)</td></tr><tr><td>Luis Quintela (Sr. Manager of Big Data Analytics)</td><td>List(Company Blog, Partners)</td></tr><tr><td>John Tripier</td><td>List(Announcements, Company Blog)</td></tr><tr><td>Kavitha Mariappan</td><td>List(Company Blog, Events)</td></tr><tr><td>Databricks Press Office</td><td>List(Announcements, Company Blog)</td></tr><tr><td>Ameet Talwalkar</td><td>List(Announcements, Company Blog)</td></tr><tr><td>Michael Hiskey (VP at MicroStrategy Inc.)</td><td>List(Company Blog, Partners)</td></tr><tr><td>Matt MacKinnon (Director of Product Management at Zaloni)</td><td>List(Company Blog, Partners)</td></tr><tr><td>by Databricks Press Office</td><td>List(Announcements, Company Blog)</td></tr><tr><td>Matei Zaharia</td><td>List(Announcements, Company Blog)</td></tr><tr><td>Bill Kehoe (Big Data Architect at Qlik)</td><td>List(Company Blog, Partners)</td></tr><tr><td>Andy Konwinski</td><td>List(Announcements, Company Blog)</td></tr><tr><td>Yan Breek (Data Scientist)</td><td>List(Company Blog, Partners)</td></tr><tr><td>Dean Wampler (Typesafe)</td><td>List(Company Blog, Partners)</td></tr><tr><td>Kavitha Mariappan</td><td>List(Announcements, Company Blog)</td></tr><tr><td>Arsalan Tavakoli-Shiraji</td><td>List(Company Blog, Events)</td></tr><tr><td>Sarabjeet Chugh (Head of Hadoop Product Management at Pivotal Inc.)</td><td>List(Company Blog, Partners)</td></tr><tr><td>Holden Karau</td><td>List(Announcements, Company Blog)</td></tr><tr><td>Christopher Nguyen (CEO &amp; Co-Founder of Adatao)</td><td>List(Company Blog, Partners)</td></tr><tr><td> Dibyendu Bhattacharya (Big Data Architect)</td><td>List(Company Blog, Partners)</td></tr><tr><td>Michael Ruggiero (Data Infrastructure Engineer at Sharethrough)</td><td>List(Company Blog, Customers)</td></tr><tr><td>Databricks Press Office</td><td>List(Company Blog, Events)</td></tr><tr><td>Hari Kodakalla (EVP at Apervi Inc.)</td><td>List(Company Blog, Partners)</td></tr><tr><td>Pat McDonough</td><td>List(Company Blog, Events)</td></tr></tbody></table></div>"
      ]
     },
     "metadata": {
      "application/vnd.databricks.v1+output": {
       "addedWidgets": {},
       "aggData": [],
       "aggError": "",
       "aggOverflow": false,
       "aggSchema": [],
       "aggSeriesLimitReached": false,
       "aggType": "",
       "arguments": {},
       "columnCustomDisplayInfos": {},
       "data": [
        [
         "Anthony Joseph",
         [
          "Announcements",
          "Company Blog"
         ]
        ],
        [
         "Vida Ha",
         [
          "Company Blog",
          "Product"
         ]
        ],
        [
         "Nan Zhu (Chief Architect at Faimdata)",
         [
          "Company Blog",
          "Partners"
         ]
        ],
        [
         "Russell Cardullo (Sharethrough)",
         [
          "Company Blog",
          "Customers"
         ]
        ],
        [
         "Eric Carr (VP Core Systems Group at Guavus)",
         [
          "Company Blog",
          "Partners"
         ]
        ],
        [
         "Paco Nathan",
         [
          "Announcements",
          "Company Blog"
         ]
        ],
        [
         "Sonal Goyal (CEO)",
         [
          "Company Blog",
          "Partners"
         ]
        ],
        [
         "John Kreisa (VP of Strategic Marketing at Hortonworks)",
         [
          "Company Blog",
          "Partners"
         ]
        ],
        [
         "Databricks Press Office",
         [
          "Announcements",
          "Company Blog",
          "Partners"
         ]
        ],
        [
         "Claudiu Barbura (Sr. Dir. of Engineering at Atigeo LLC)",
         [
          "Company Blog",
          "Partners"
         ]
        ],
        [
         "SriSatish Ambati (CEO of 0xData)",
         [
          "Company Blog",
          "Partners"
         ]
        ],
        [
         "Arsalan Tavakoli-Shiraji",
         [
          "Company Blog",
          "Partners"
         ]
        ],
        [
         "Christopher Burdorf (Senior Software Engineer at NBC Universal)",
         [
          "Company Blog",
          "Customers"
         ]
        ],
        [
         "Ion Stoica",
         [
          "Announcements",
          "Company Blog"
         ]
        ],
        [
         "Dave Wang (Databricks)",
         [
          "Announcements",
          "Company Blog"
         ]
        ],
        [
         "Patrick Wendell",
         [
          "Announcements",
          "Company Blog"
         ]
        ],
        [
         "Russell Cardullo (Data Infrastructure Engineer at Sharethrough)",
         [
          "Company Blog",
          "Customers"
         ]
        ],
        [
         "Tomer Shiran (VP of Product Management at MapR)",
         [
          "Company Blog",
          "Partners"
         ]
        ],
        [
         "Girish Kathalagiri (Data Analytics Engineer)",
         [
          "Company Blog",
          "Partners"
         ]
        ],
        [
         "Databricks Training Team",
         [
          "Announcements",
          "Company Blog",
          "Events"
         ]
        ],
        [
         "Jeff Feng (Product Manager at Tableau Software)",
         [
          "Company Blog",
          "Partners"
         ]
        ],
        [
         "Ari Himmel (CEO at Faimdata)",
         [
          "Company Blog",
          "Partners"
         ]
        ],
        [
         "Scott Walent",
         [
          "Company Blog",
          "Events"
         ]
        ],
        [
         "Gavin Targonski (Product Management at Talend)",
         [
          "Company Blog",
          "Partners"
         ]
        ],
        [
         "Scott Walent",
         [
          "Announcements",
          "Company Blog",
          "Events"
         ]
        ],
        [
         "Lieven Gesquiere (Virdata Lead Core R&D)",
         [
          "Company Blog",
          "Partners"
         ]
        ],
        [
         "Sachin Chawla (VP of Engineering)",
         [
          "Company Blog",
          "Partners"
         ]
        ],
        [
         "Sean Kandel (CTO at Trifacta)",
         [
          "Company Blog",
          "Partners"
         ]
        ],
        [
         "Jake Cornelius (SVP of Product Management at Pentaho)",
         [
          "Company Blog",
          "Partners"
         ]
        ],
        [
         "Andy Konwinski",
         [
          "Company Blog",
          "Customers",
          "Events"
         ]
        ],
        [
         "Costin Leau (Engineer at Elasticsearch)",
         [
          "Company Blog",
          "Partners"
         ]
        ],
        [
         "Oscar Mendez (CEO of Stratio)",
         [
          "Company Blog",
          "Partners"
         ]
        ],
        [
         "Ion Stoica",
         [
          "Company Blog",
          "Partners"
         ]
        ],
        [
         "Ion Stoica",
         [
          "Company Blog",
          "Product"
         ]
        ],
        [
         "Steven Hillion",
         [
          "Company Blog",
          "Partners"
         ]
        ],
        [
         "Luis Quintela (Sr. Manager of Big Data Analytics)",
         [
          "Company Blog",
          "Partners"
         ]
        ],
        [
         "John Tripier",
         [
          "Announcements",
          "Company Blog"
         ]
        ],
        [
         "Kavitha Mariappan",
         [
          "Company Blog",
          "Events"
         ]
        ],
        [
         "Databricks Press Office",
         [
          "Announcements",
          "Company Blog"
         ]
        ],
        [
         "Ameet Talwalkar",
         [
          "Announcements",
          "Company Blog"
         ]
        ],
        [
         "Michael Hiskey (VP at MicroStrategy Inc.)",
         [
          "Company Blog",
          "Partners"
         ]
        ],
        [
         "Matt MacKinnon (Director of Product Management at Zaloni)",
         [
          "Company Blog",
          "Partners"
         ]
        ],
        [
         "by Databricks Press Office",
         [
          "Announcements",
          "Company Blog"
         ]
        ],
        [
         "Matei Zaharia",
         [
          "Announcements",
          "Company Blog"
         ]
        ],
        [
         "Bill Kehoe (Big Data Architect at Qlik)",
         [
          "Company Blog",
          "Partners"
         ]
        ],
        [
         "Andy Konwinski",
         [
          "Announcements",
          "Company Blog"
         ]
        ],
        [
         "Yan Breek (Data Scientist)",
         [
          "Company Blog",
          "Partners"
         ]
        ],
        [
         "Dean Wampler (Typesafe)",
         [
          "Company Blog",
          "Partners"
         ]
        ],
        [
         "Kavitha Mariappan",
         [
          "Announcements",
          "Company Blog"
         ]
        ],
        [
         "Arsalan Tavakoli-Shiraji",
         [
          "Company Blog",
          "Events"
         ]
        ],
        [
         "Sarabjeet Chugh (Head of Hadoop Product Management at Pivotal Inc.)",
         [
          "Company Blog",
          "Partners"
         ]
        ],
        [
         "Holden Karau",
         [
          "Announcements",
          "Company Blog"
         ]
        ],
        [
         "Christopher Nguyen (CEO &amp; Co-Founder of Adatao)",
         [
          "Company Blog",
          "Partners"
         ]
        ],
        [
         " Dibyendu Bhattacharya (Big Data Architect)",
         [
          "Company Blog",
          "Partners"
         ]
        ],
        [
         "Michael Ruggiero (Data Infrastructure Engineer at Sharethrough)",
         [
          "Company Blog",
          "Customers"
         ]
        ],
        [
         "Databricks Press Office",
         [
          "Company Blog",
          "Events"
         ]
        ],
        [
         "Hari Kodakalla (EVP at Apervi Inc.)",
         [
          "Company Blog",
          "Partners"
         ]
        ],
        [
         "Pat McDonough",
         [
          "Company Blog",
          "Events"
         ]
        ]
       ],
       "datasetInfos": [],
       "dbfsResultPath": null,
       "isJsonSchema": true,
       "metadata": {
        "isDbfsCommandResult": false
       },
       "overflow": false,
       "plotOptions": {
        "customPlotOptions": {},
        "displayType": "table",
        "pivotAggregation": null,
        "pivotColumns": null,
        "xColumns": null,
        "yColumns": null
       },
       "removedWidgets": [],
       "schema": [
        {
         "metadata": "{}",
         "name": "author",
         "type": "\"string\""
        },
        {
         "metadata": "{}",
         "name": "categories",
         "type": "{\"type\":\"array\",\"elementType\":\"string\",\"containsNull\":true}"
        }
       ],
       "type": "table"
      }
     },
     "output_type": "display_data"
    }
   ],
   "source": [
    "%sql\n",
    "SELECT\n",
    " * \n",
    "FROM\n",
    " results;"
   ]
  },
  {
   "cell_type": "markdown",
   "metadata": {
    "application/vnd.databricks.v1+cell": {
     "cellMetadata": {},
     "inputWidgets": {},
     "nuid": "527eee7e-3389-4007-ad02-0f73ab4b7328",
     "showTitle": false,
     "title": ""
    }
   },
   "source": [
    "&copy; 2020 Databricks, Inc. All rights reserved.<br/>\n",
    "Apache, Apache Spark, Spark and the Spark logo are trademarks of the <a href=\"http://www.apache.org/\">Apache Software Foundation</a>.<br/>\n",
    "<br/>\n",
    "<a href=\"https://databricks.com/privacy-policy\">Privacy Policy</a> | <a href=\"https://databricks.com/terms-of-use\">Terms of Use</a> | <a href=\"http://help.databricks.com/\">Support</a>"
   ]
  }
 ],
 "metadata": {
  "application/vnd.databricks.v1+notebook": {
   "dashboards": [],
   "language": "python",
   "notebookMetadata": {
    "pythonIndentUnit": 2
   },
   "notebookName": "06 - Nested Data",
   "widgets": {}
  }
 },
 "nbformat": 4,
 "nbformat_minor": 0
}
